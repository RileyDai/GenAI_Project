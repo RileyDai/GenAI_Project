{
 "cells": [
  {
   "cell_type": "markdown",
   "metadata": {},
   "source": [
    "## Impressionism Data"
   ]
  },
  {
   "cell_type": "code",
   "execution_count": null,
   "metadata": {},
   "outputs": [],
   "source": [
    "import pandas as pd\n",
    "\n",
    "file_path = 'wikiart/wikiart_csv/genre_train.csv'\n",
    "df = pd.read_csv(file_path)  \n",
    "impressionism = df[df['path'].str.startswith(\"Impressionism/\")]\n",
    "impressionism.to_csv(\"impressionism.csv\", index=False)\n"
   ]
  },
  {
   "cell_type": "code",
   "execution_count": null,
   "metadata": {},
   "outputs": [],
   "source": [
    "impressionism = pd.read_csv(\"impressionism.csv\")  \n",
    "counts = impressionism['class_index'].value_counts()\n",
    "print(counts)"
   ]
  },
  {
   "cell_type": "code",
   "execution_count": 10,
   "metadata": {},
   "outputs": [],
   "source": [
    "import shutil\n",
    "from pathlib import Path\n",
    "genre_class = {4:'landscape', 2:'genre_painting', 6:'portrait', 1:'cityscape'}\n",
    "\n",
    "\n",
    "source_root = Path(\"wikiart\") \n",
    "target_root = Path(\"data\")\n",
    "\n",
    "for _, row in impressionism.iterrows():\n",
    "    class_idx = row['class_index']\n",
    "    img_rel_path = row['path']\n",
    "\n",
    "    if class_idx in genre_class:\n",
    "        class_name = genre_class[class_idx]\n",
    "        target_dir = target_root / class_name\n",
    "        target_dir.mkdir(parents=True, exist_ok=True)\n",
    "\n",
    "        src_path = source_root / img_rel_path\n",
    "        dst_path = target_dir / Path(img_rel_path).name\n",
    "\n",
    "        if src_path.exists():\n",
    "            shutil.move(str(src_path), str(dst_path))\n",
    "        else:\n",
    "            print(f\"error: {src_path}\")\n",
    "\n"
   ]
  },
  {
   "cell_type": "code",
   "execution_count": null,
   "metadata": {},
   "outputs": [
    {
     "name": "stdout",
     "output_type": "stream",
     "text": [
      "genre_painting: 2669 files\n",
      "portrait: 1899 files\n",
      "landscape: 3079 files\n",
      "cityscape: 1545 files\n"
     ]
    }
   ],
   "source": [
    "from pathlib import Path\n",
    "\n",
    "data_dir = Path(\"data_impressionism\")\n",
    "subdirs = [d for d in data_dir.iterdir() if d.is_dir()]\n",
    "\n",
    "for subdir in subdirs:\n",
    "    file_count = len([f for f in subdir.iterdir() if f.is_file()])\n",
    "    print(f\"{subdir.name}: {file_count} files\")\n"
   ]
  },
  {
   "cell_type": "markdown",
   "metadata": {},
   "source": [
    "## Fruits Data"
   ]
  },
  {
   "cell_type": "code",
   "execution_count": null,
   "metadata": {},
   "outputs": [
    {
     "name": "stdout",
     "output_type": "stream",
     "text": [
      "Apple 12: 466 files\n",
      "Apple 5: 440 files\n",
      "Apple Granny Smith 1: 492 files\n",
      "Apple 13: 699 files\n",
      "Apple 14: 466 files\n",
      "Apple Braeburn 1: 492 files\n",
      "Apple Golden 2: 492 files\n",
      "Apple Red 1: 492 files\n",
      "Apple Golden 3: 481 files\n",
      "Apple Rotten 1: 488 files\n",
      "Apple Red Yellow 1: 492 files\n",
      "Apple Pink Lady 1: 456 files\n",
      "Apple Core 1: 235 files\n",
      "Apple 11: 430 files\n",
      "Apple 6: 473 files\n",
      "Apple 8: 687 files\n",
      "Apple 18: 484 files\n",
      "Apple 19: 729 files\n",
      "Apple hit 1: 702 files\n",
      "Apple 9: 694 files\n",
      "Apple 17: 610 files\n",
      "Apple 7: 694 files\n",
      "Apple 10: 699 files\n",
      "Apple Crimson Snow 1: 444 files\n",
      "Apple Golden 1: 480 files\n",
      "Apple Red 2: 492 files\n",
      "Apple Red Yellow 2: 672 files\n",
      "Apple worm 1: 696 files\n",
      "Apple Red 3: 429 files\n",
      "Apple Red Delicious 1: 490 files\n"
     ]
    }
   ],
   "source": [
    "from pathlib import Path\n",
    "\n",
    "data_dir = Path(\"data_fruits/fruits-360_100x100/fruits-360/Training\")\n",
    "subdirs = [d for d in data_dir.iterdir() if d.is_dir()]\n",
    "\n",
    "for subdir in subdirs:\n",
    "    file_count = len([f for f in subdir.iterdir() if f.is_file()])\n",
    "    print(f\"{subdir.name}: {file_count} files\")"
   ]
  },
  {
   "cell_type": "code",
   "execution_count": 6,
   "metadata": {},
   "outputs": [
    {
     "name": "stdout",
     "output_type": "stream",
     "text": [
      "✅ Image regrouping complete.\n"
     ]
    }
   ],
   "source": [
    "import os\n",
    "import shutil\n",
    "\n",
    "\n",
    "source_root = \"./data_fruits/fruits-360_100x100/fruits-360/Test\" \n",
    "\n",
    "target_root = \"./data_apples\"\n",
    "\n",
    "class_map = {\n",
    "    \"Apple Golden 1\": \"Golden\",\n",
    "    \"Apple Golden 2\": \"Golden\",\n",
    "    \"Apple Golden 3\": \"Golden\",\n",
    "    \"Apple Red Yellow 1\": \"Golden-Red\",\n",
    "    \"Apple Red Yellow 2\": \"Golden-Red\",\n",
    "    \"Apple Red 1\": \"Red\",\n",
    "    \"Apple Red 2\": \"Red\",\n",
    "    \"Apple Red 3\": \"Red\"\n",
    "}\n",
    "\n",
    "os.makedirs(target_root, exist_ok=True)\n",
    "\n",
    "for src_folder, new_class in class_map.items():\n",
    "    src_path = os.path.join(source_root, src_folder)\n",
    "    dst_path = os.path.join(target_root, new_class)\n",
    "\n",
    "    os.makedirs(dst_path, exist_ok=True)\n",
    "\n",
    "    if not os.path.exists(src_path):\n",
    "        print(f\"[Warning] Source folder does not exist: {src_path}\")\n",
    "        continue\n",
    "\n",
    "    for file_name in os.listdir(src_path):\n",
    "        src_file = os.path.join(src_path, file_name)\n",
    "        dst_file = os.path.join(dst_path, f\"{src_folder.replace(' ', '_')}_{file_name}\")\n",
    "        shutil.copyfile(src_file, dst_file)\n",
    "\n",
    "print(\"✅ Image regrouping complete.\")\n"
   ]
  },
  {
   "cell_type": "code",
   "execution_count": 7,
   "metadata": {},
   "outputs": [
    {
     "name": "stdout",
     "output_type": "stream",
     "text": [
      "Golden-Red: 1547 files\n",
      "Golden: 1938 files\n",
      "Red: 1885 files\n"
     ]
    }
   ],
   "source": [
    "from pathlib import Path\n",
    "\n",
    "data_dir = Path(\"data_apples\")\n",
    "subdirs = [d for d in data_dir.iterdir() if d.is_dir()]\n",
    "\n",
    "for subdir in subdirs:\n",
    "    file_count = len([f for f in subdir.iterdir() if f.is_file()])\n",
    "    print(f\"{subdir.name}: {file_count} files\")"
   ]
  }
 ],
 "metadata": {
  "kernelspec": {
   "display_name": "vae",
   "language": "python",
   "name": "python3"
  },
  "language_info": {
   "codemirror_mode": {
    "name": "ipython",
    "version": 3
   },
   "file_extension": ".py",
   "mimetype": "text/x-python",
   "name": "python",
   "nbconvert_exporter": "python",
   "pygments_lexer": "ipython3",
   "version": "3.10.17"
  }
 },
 "nbformat": 4,
 "nbformat_minor": 2
}
