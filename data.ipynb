{
 "cells": [
  {
   "cell_type": "code",
   "execution_count": null,
   "metadata": {},
   "outputs": [],
   "source": [
    "import pandas as pd\n",
    "\n",
    "file_path = 'wikiart/wikiart_csv/genre_train.csv'\n",
    "df = pd.read_csv(file_path)  \n",
    "impressionism = df[df['path'].str.startswith(\"Impressionism/\")]\n",
    "impressionism.to_csv(\"impressionism.csv\", index=False)\n"
   ]
  },
  {
   "cell_type": "code",
   "execution_count": null,
   "metadata": {},
   "outputs": [],
   "source": [
    "impressionism = pd.read_csv(\"impressionism.csv\")  \n",
    "counts = impressionism['class_index'].value_counts()\n",
    "print(counts)"
   ]
  },
  {
   "cell_type": "code",
   "execution_count": 10,
   "metadata": {},
   "outputs": [],
   "source": [
    "import shutil\n",
    "from pathlib import Path\n",
    "genre_class = {4:'landscape', 2:'genre_painting', 6:'portrait', 1:'cityscape'}\n",
    "\n",
    "\n",
    "source_root = Path(\"wikiart\") \n",
    "target_root = Path(\"data\")\n",
    "\n",
    "for _, row in impressionism.iterrows():\n",
    "    class_idx = row['class_index']\n",
    "    img_rel_path = row['path']\n",
    "\n",
    "    if class_idx in genre_class:\n",
    "        class_name = genre_class[class_idx]\n",
    "        target_dir = target_root / class_name\n",
    "        target_dir.mkdir(parents=True, exist_ok=True)\n",
    "\n",
    "        src_path = source_root / img_rel_path\n",
    "        dst_path = target_dir / Path(img_rel_path).name\n",
    "\n",
    "        if src_path.exists():\n",
    "            shutil.move(str(src_path), str(dst_path))\n",
    "        else:\n",
    "            print(f\"error: {src_path}\")\n",
    "\n"
   ]
  },
  {
   "cell_type": "code",
   "execution_count": 11,
   "metadata": {},
   "outputs": [
    {
     "name": "stdout",
     "output_type": "stream",
     "text": [
      "genre_painting: 2669 files\n",
      "portrait: 1899 files\n",
      "landscape: 3079 files\n",
      "cityscape: 1545 files\n"
     ]
    }
   ],
   "source": [
    "from pathlib import Path\n",
    "\n",
    "data_dir = Path(\"data\")\n",
    "subdirs = [d for d in data_dir.iterdir() if d.is_dir()]\n",
    "\n",
    "for subdir in subdirs:\n",
    "    file_count = len([f for f in subdir.iterdir() if f.is_file()])\n",
    "    print(f\"{subdir.name}: {file_count} files\")\n"
   ]
  }
 ],
 "metadata": {
  "kernelspec": {
   "display_name": "vae",
   "language": "python",
   "name": "python3"
  },
  "language_info": {
   "codemirror_mode": {
    "name": "ipython",
    "version": 3
   },
   "file_extension": ".py",
   "mimetype": "text/x-python",
   "name": "python",
   "nbconvert_exporter": "python",
   "pygments_lexer": "ipython3",
   "version": "3.10.17"
  }
 },
 "nbformat": 4,
 "nbformat_minor": 2
}
